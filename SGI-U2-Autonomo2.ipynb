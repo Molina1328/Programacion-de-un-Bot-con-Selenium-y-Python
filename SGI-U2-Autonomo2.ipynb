{
 "cells": [
  {
   "cell_type": "markdown",
   "id": "6aee315c",
   "metadata": {},
   "source": [
    " <h1><center> <font color='green'>SGI-U2-Autonomo2 </font></center></h1> \n",
    " <h1> Programación de un Bot con Selenium y  Python </h1> \n",
    " <h1>Nombre: Molina Joel </h1> \n",
    " <h1> NRC: 6417 </h1> "
   ]
  },
  {
   "cell_type": "markdown",
   "id": "21e2e726",
   "metadata": {},
   "source": [
    "## Instalación de selenium"
   ]
  },
  {
   "cell_type": "code",
   "execution_count": 1,
   "id": "eafa7464",
   "metadata": {},
   "outputs": [],
   "source": [
    "#!pip install selenium"
   ]
  },
  {
   "cell_type": "markdown",
   "id": "f18199e4",
   "metadata": {},
   "source": [
    "## Librerías"
   ]
  },
  {
   "cell_type": "code",
   "execution_count": 2,
   "id": "c26e16e7",
   "metadata": {},
   "outputs": [],
   "source": [
    "from selenium import webdriver \n",
    "from selenium.webdriver.common.by import By\n",
    "from selenium.webdriver.common.keys import Keys\n",
    "import pandas as pd\n",
    "import time"
   ]
  },
  {
   "cell_type": "markdown",
   "id": "05c72776",
   "metadata": {},
   "source": [
    "## Configuración de Selenium Webdriver"
   ]
  },
  {
   "cell_type": "code",
   "execution_count": 3,
   "id": "e34caa68",
   "metadata": {},
   "outputs": [],
   "source": [
    "option = webdriver.ChromeOptions()\n",
    "option.add_argument(\"-incognito\")"
   ]
  },
  {
   "cell_type": "code",
   "execution_count": 4,
   "id": "d7154a33",
   "metadata": {},
   "outputs": [
    {
     "name": "stderr",
     "output_type": "stream",
     "text": [
      "C:\\Users\\Joelv\\AppData\\Local\\Temp\\ipykernel_8316\\4176362024.py:1: DeprecationWarning: executable_path has been deprecated, please pass in a Service object\n",
      "  browser  = webdriver.Chrome(executable_path='C:/Users/Joelv/Documents/Seguridad Inform/chromedriver.exe', options=option)\n"
     ]
    }
   ],
   "source": [
    "browser  = webdriver.Chrome(executable_path='C:/Users/Joelv/Documents/Seguridad Inform/chromedriver.exe', options=option)"
   ]
  },
  {
   "cell_type": "code",
   "execution_count": 5,
   "id": "62f0c591",
   "metadata": {},
   "outputs": [],
   "source": [
    "browser.get(\"https://docs.google.com/forms/d/e/1FAIpQLSc5J0-1xRPB_zV8QnaICUOyrKEpg7Y9A3mWLBNzdzKyzDJVmQ/viewform?usp=sf_link\")"
   ]
  },
  {
   "cell_type": "markdown",
   "id": "d1eba519",
   "metadata": {},
   "source": [
    "## Carga del DataSet"
   ]
  },
  {
   "cell_type": "code",
   "execution_count": 6,
   "id": "1585d24d",
   "metadata": {},
   "outputs": [
    {
     "data": {
      "text/html": [
       "<div>\n",
       "<style scoped>\n",
       "    .dataframe tbody tr th:only-of-type {\n",
       "        vertical-align: middle;\n",
       "    }\n",
       "\n",
       "    .dataframe tbody tr th {\n",
       "        vertical-align: top;\n",
       "    }\n",
       "\n",
       "    .dataframe thead th {\n",
       "        text-align: right;\n",
       "    }\n",
       "</style>\n",
       "<table border=\"1\" class=\"dataframe\">\n",
       "  <thead>\n",
       "    <tr style=\"text-align: right;\">\n",
       "      <th></th>\n",
       "      <th>Nombres Completos</th>\n",
       "      <th>Apellidos Completos</th>\n",
       "      <th>Cedula Identidad</th>\n",
       "      <th>Fecha de Nacimiento</th>\n",
       "      <th>Conocimiento en SI</th>\n",
       "      <th>Semestre</th>\n",
       "    </tr>\n",
       "  </thead>\n",
       "  <tbody>\n",
       "    <tr>\n",
       "      <th>0</th>\n",
       "      <td>Lesly Milena</td>\n",
       "      <td>Pisco Quispe</td>\n",
       "      <td>2351139551</td>\n",
       "      <td>03/11/1998</td>\n",
       "      <td>Sí</td>\n",
       "      <td>Séptimo Semestre</td>\n",
       "    </tr>\n",
       "    <tr>\n",
       "      <th>1</th>\n",
       "      <td>Joel Andrés</td>\n",
       "      <td>Molina Vélez</td>\n",
       "      <td>2350632952</td>\n",
       "      <td>28/04/2000</td>\n",
       "      <td>Sí</td>\n",
       "      <td>Séptimo Semestre</td>\n",
       "    </tr>\n",
       "    <tr>\n",
       "      <th>2</th>\n",
       "      <td>Anderson Cristóbal</td>\n",
       "      <td>Zambrano Balseca</td>\n",
       "      <td>1724659907</td>\n",
       "      <td>22/09/1999</td>\n",
       "      <td>Sí</td>\n",
       "      <td>Séptimo Semestre</td>\n",
       "    </tr>\n",
       "    <tr>\n",
       "      <th>3</th>\n",
       "      <td>Helen Liseth</td>\n",
       "      <td>Alcivar Sacon</td>\n",
       "      <td>2351071473</td>\n",
       "      <td>05/10/2000</td>\n",
       "      <td>No</td>\n",
       "      <td>Séptimo Semestre</td>\n",
       "    </tr>\n",
       "    <tr>\n",
       "      <th>4</th>\n",
       "      <td>Karla Xiomara</td>\n",
       "      <td>Ordóñez Ordóñez</td>\n",
       "      <td>2350064537</td>\n",
       "      <td>26/05/1995</td>\n",
       "      <td>Sí</td>\n",
       "      <td>Séptimo Semestre</td>\n",
       "    </tr>\n",
       "    <tr>\n",
       "      <th>5</th>\n",
       "      <td>Vicenta Noelia</td>\n",
       "      <td>Anchundia Zambrano</td>\n",
       "      <td>2350064527</td>\n",
       "      <td>06/10/2000</td>\n",
       "      <td>No</td>\n",
       "      <td>Quinto Semestre</td>\n",
       "    </tr>\n",
       "    <tr>\n",
       "      <th>6</th>\n",
       "      <td>Pepe José</td>\n",
       "      <td>Zambrano Zambrano</td>\n",
       "      <td>2351171473</td>\n",
       "      <td>04/11/1999</td>\n",
       "      <td>No</td>\n",
       "      <td>Tercer Semestre</td>\n",
       "    </tr>\n",
       "    <tr>\n",
       "      <th>7</th>\n",
       "      <td>Sofia Karla</td>\n",
       "      <td>Cusme Vélez</td>\n",
       "      <td>2350632952</td>\n",
       "      <td>04/12/1999</td>\n",
       "      <td>No</td>\n",
       "      <td>Segundo Semestre</td>\n",
       "    </tr>\n",
       "    <tr>\n",
       "      <th>8</th>\n",
       "      <td>Carlos Jesús</td>\n",
       "      <td>Frío Gomez</td>\n",
       "      <td>1724651207</td>\n",
       "      <td>22/11/1999</td>\n",
       "      <td>Sí</td>\n",
       "      <td>Séptimo Semestre</td>\n",
       "    </tr>\n",
       "    <tr>\n",
       "      <th>9</th>\n",
       "      <td>Gokú Naruto</td>\n",
       "      <td>Kakaroto Messi</td>\n",
       "      <td>2224651207</td>\n",
       "      <td>22/11/2000</td>\n",
       "      <td>No</td>\n",
       "      <td>Primer Semestre</td>\n",
       "    </tr>\n",
       "  </tbody>\n",
       "</table>\n",
       "</div>"
      ],
      "text/plain": [
       "    Nombres Completos Apellidos Completos Cedula Identidad  \\\n",
       "0        Lesly Milena        Pisco Quispe       2351139551   \n",
       "1         Joel Andrés        Molina Vélez       2350632952   \n",
       "2  Anderson Cristóbal    Zambrano Balseca       1724659907   \n",
       "3        Helen Liseth       Alcivar Sacon       2351071473   \n",
       "4       Karla Xiomara     Ordóñez Ordóñez       2350064537   \n",
       "5     Vicenta Noelia   Anchundia Zambrano       2350064527   \n",
       "6           Pepe José  Zambrano Zambrano        2351171473   \n",
       "7         Sofia Karla         Cusme Vélez       2350632952   \n",
       "8        Carlos Jesús          Frío Gomez       1724651207   \n",
       "9         Gokú Naruto      Kakaroto Messi       2224651207   \n",
       "\n",
       "  Fecha de Nacimiento Conocimiento en SI          Semestre  \n",
       "0          03/11/1998                 Sí  Séptimo Semestre  \n",
       "1          28/04/2000                 Sí  Séptimo Semestre  \n",
       "2          22/09/1999                 Sí  Séptimo Semestre  \n",
       "3          05/10/2000                 No  Séptimo Semestre  \n",
       "4          26/05/1995                 Sí  Séptimo Semestre  \n",
       "5          06/10/2000                 No   Quinto Semestre  \n",
       "6          04/11/1999                 No   Tercer Semestre  \n",
       "7          04/12/1999                 No  Segundo Semestre  \n",
       "8          22/11/1999                 Sí  Séptimo Semestre  \n",
       "9          22/11/2000                 No   Primer Semestre  "
      ]
     },
     "execution_count": 6,
     "metadata": {},
     "output_type": "execute_result"
    }
   ],
   "source": [
    "dfDatos = pd.read_csv('DatosAutonomo2.csv',sep=';',dtype={'Cedula Identidad': str})\n",
    "dfDatos"
   ]
  },
  {
   "cell_type": "markdown",
   "id": "ab490dd0",
   "metadata": {},
   "source": [
    "## Encuentro e interacción de los elementos en la página web del formulario"
   ]
  },
  {
   "cell_type": "code",
   "execution_count": 8,
   "id": "42ba5c57",
   "metadata": {},
   "outputs": [],
   "source": [
    "\n",
    "for i in dfDatos.index: \n",
    "    Nombres = dfDatos[\"Nombres Completos\"][i].title()\n",
    "    Apellidos = dfDatos['Apellidos Completos'][i].title()\n",
    "    Cedula = dfDatos['Cedula Identidad'][i]\n",
    "    Fecha = dfDatos['Fecha de Nacimiento'][i]\n",
    "    Conocimiento_SI  = dfDatos['Conocimiento en SI'][i]\n",
    "    Semestre = dfDatos['Semestre'][i]\n",
    "    '''Elemento de los Nombres'''\n",
    "    browser.find_element(By.XPATH,'//*[@id=\"mG61Hd\"]/div[2]/div/div[2]/div[1]/div/div/div[2]/div/div[1]/div[2]/textarea').send_keys(Nombres)\n",
    "    '''Elemento de los Apellidos'''\n",
    "    browser.find_element(By.XPATH,'//*[@id=\"mG61Hd\"]/div[2]/div/div[2]/div[2]/div/div/div[2]/div/div[1]/div[2]/textarea').send_keys(Apellidos)\n",
    "    '''Elemento de la cédula'''\n",
    "    browser.find_element(By.XPATH,'//*[@id=\"mG61Hd\"]/div[2]/div/div[2]/div[3]/div/div/div[2]/div/div[1]/div/div[1]/input').send_keys(Cedula)\n",
    "    '''Elemento de la Fecha'''\n",
    "    browser.find_element(By.XPATH,'//*[@id=\"mG61Hd\"]/div[2]/div/div[2]/div[4]/div/div/div[2]/div/div/div[2]/div[1]/div/div[1]/input').send_keys(Fecha)\n",
    "    '''Elemento del conocimiento en Seguridad Informática'''\n",
    "    datosElementoConocimiento_SI = {\n",
    "        'Sí':'//*[@id=\"mG61Hd\"]/div[2]/div/div[2]/div[5]/div/div/div[2]/div/div/span/div/div[1]/label',\n",
    "        'No':'//*[@id=\"mG61Hd\"]/div[2]/div/div[2]/div[5]/div/div/div[2]/div/div/span/div/div[2]/label'\n",
    "    }\n",
    "    browser.find_element(By.XPATH,datosElementoConocimiento_SI[Conocimiento_SI]).click()\n",
    "    '''Elemento del semestre'''\n",
    "    datosSemestre = {\n",
    "        'Primer Semestre':'//*[@id=\"mG61Hd\"]/div[2]/div/div[2]/div[6]/div/div/div[2]/div/div/span/div/div[1]/label',\n",
    "        'Segundo Semestre':'//*[@id=\"mG61Hd\"]/div[2]/div/div[2]/div[6]/div/div/div[2]/div/div/span/div/div[2]/label',\n",
    "        'Tercer Semestre':'//*[@id=\"mG61Hd\"]/div[2]/div/div[2]/div[6]/div/div/div[2]/div/div/span/div/div[3]/label',\n",
    "        'Cuarto Semestre':'//*[@id=\"mG61Hd\"]/div[2]/div/div[2]/div[6]/div/div/div[2]/div/div/span/div/div[4]/label',\n",
    "        'Quinto Semestre':'//*[@id=\"mG61Hd\"]/div[2]/div/div[2]/div[6]/div/div/div[2]/div/div/span/div/div[5]/label',\n",
    "        'Sexto Semestre':'//*[@id=\"mG61Hd\"]/div[2]/div/div[2]/div[6]/div/div/div[2]/div/div/span/div/div[6]/label',\n",
    "        'Séptimo Semestre':'//*[@id=\"mG61Hd\"]/div[2]/div/div[2]/div[6]/div/div/div[2]/div/div/span/div/div[7]/label',\n",
    "        'Octavo Semestre':'//*[@id=\"mG61Hd\"]/div[2]/div/div[2]/div[6]/div/div/div[2]/div/div/span/div/div[8]/label'\n",
    "    }\n",
    "    \n",
    "    browser.find_element(By.XPATH,datosSemestre[Semestre]).click()\n",
    "    browser.implicitly_wait(10)\n",
    "    browser.find_element(By.XPATH,'//*[@id=\"mG61Hd\"]/div[2]/div/div[3]/div[1]/div[1]/div/span').click()\n",
    "    browser.implicitly_wait(10)\n",
    "    browser.find_element(By.XPATH,'/html/body/div[1]/div[2]/div[1]/div/div[4]/a').click()"
   ]
  },
  {
   "cell_type": "code",
   "execution_count": null,
   "id": "f37fee27",
   "metadata": {},
   "outputs": [],
   "source": []
  }
 ],
 "metadata": {
  "kernelspec": {
   "display_name": "Python 3 (ipykernel)",
   "language": "python",
   "name": "python3"
  },
  "language_info": {
   "codemirror_mode": {
    "name": "ipython",
    "version": 3
   },
   "file_extension": ".py",
   "mimetype": "text/x-python",
   "name": "python",
   "nbconvert_exporter": "python",
   "pygments_lexer": "ipython3",
   "version": "3.9.7"
  }
 },
 "nbformat": 4,
 "nbformat_minor": 5
}
